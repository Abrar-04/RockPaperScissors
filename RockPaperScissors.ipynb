{
 "cells": [
  {
   "cell_type": "code",
   "execution_count": null,
   "metadata": {},
   "outputs": [],
   "source": [
    "from random import randint\n",
    "class RockPaperScissors:\n",
    "    def __init__(self,name,limit):\n",
    "        self.name=name\n",
    "        self.limit=limit\n",
    "        self.player_wins=0\n",
    "        self.computer_wins=0\n",
    "    def playgame(self):\n",
    "        for game in range(self.limit):\n",
    "            player = input( self.name +\",make your move: \").lower()\n",
    "            rand_num = randint(0,2)\n",
    "            if rand_num == 0:\n",
    "                computer = \"rock\"\n",
    "            elif rand_num == 1:\n",
    "                computer = \"paper\"\n",
    "            else:\n",
    "                computer = \"scissors\"\n",
    "\n",
    "            print(\"I play \",computer )\n",
    "\n",
    "            if player == computer:\n",
    "                 print(\"It's a tie!\")\n",
    "            elif player == \"rock\":\n",
    "                if computer == \"scissors\":\n",
    "                    print(self.name+\" wins!\")\n",
    "                    self.player_wins+=1\n",
    "                else:\n",
    "                    print(\"I Win!\")\n",
    "                    self.computer_wins+=1\n",
    "            elif player == \"paper\":\n",
    "                if computer == \"rock\":\n",
    "                    print(self.name+\" wins!\")\n",
    "                    self.player_wins+=1\n",
    "                else:\n",
    "                    print(\"I Win!\")\n",
    "                    self.computer_wins+=1\n",
    "            elif player == \"scissors\":\n",
    "                if computer == \"paper\":\n",
    "                    print(self.name+\" wins!\")\n",
    "                    self.player_wins+=1\n",
    "                else:\n",
    "                    print(\"I Win!\")\n",
    "                    self.computer_wins+=1           \n",
    "            else:\n",
    "                print(\"Please enter a valid move!\")\n",
    "    def displaypoint(self):\n",
    "        print(\"I won\",self.computer_wins,\"times out of\",self.limit)\n",
    "        print(self.name+\", you won\",self.player_wins,\"times out of\",self.limit)\n",
    "        print(\"We have tied \",self.limit-self.computer_wins-self.player_wins,\" times out of \",self.limit)\n",
    "        \n",
    "\n",
    "name1=input(\"What is your Name ??\")\n",
    "print(\"Hey\", name1 ,\", Lets play a game of rock paper scissors\")\n",
    "limit1=int(input(\"How many times would you like to play \"+ name1 +\"?\"))\n",
    "player1=RockPaperScissors(name1,limit1)\n",
    "player1.playgame()\n",
    "player1.displaypoint()"
   ]
  },
  {
   "cell_type": "code",
   "execution_count": null,
   "metadata": {},
   "outputs": [],
   "source": []
  }
 ],
 "metadata": {
  "kernelspec": {
   "display_name": "Python 3",
   "language": "python",
   "name": "python3"
  },
  "language_info": {
   "codemirror_mode": {
    "name": "ipython",
    "version": 3
   },
   "file_extension": ".py",
   "mimetype": "text/x-python",
   "name": "python",
   "nbconvert_exporter": "python",
   "pygments_lexer": "ipython3",
   "version": "3.7.3"
  }
 },
 "nbformat": 4,
 "nbformat_minor": 2
}
